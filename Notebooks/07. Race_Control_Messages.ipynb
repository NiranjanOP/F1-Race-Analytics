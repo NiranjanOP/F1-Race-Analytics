{
 "cells": [
  {
   "cell_type": "code",
   "execution_count": 0,
   "metadata": {
    "application/vnd.databricks.v1+cell": {
     "cellMetadata": {
      "byteLimit": 2048000,
      "rowLimit": 10000
     },
     "inputWidgets": {},
     "nuid": "a570d7fa-00a5-4c35-abc1-df81db7cde90",
     "showTitle": false,
     "tableResultSettingsMap": {},
     "title": ""
    }
   },
   "outputs": [],
   "source": [
    "%pip install fastf1 matplotlib pandas"
   ]
  },
  {
   "cell_type": "code",
   "execution_count": 0,
   "metadata": {
    "application/vnd.databricks.v1+cell": {
     "cellMetadata": {
      "byteLimit": 2048000,
      "rowLimit": 10000
     },
     "inputWidgets": {},
     "nuid": "7471482d-65fc-407e-a831-ff0303df616f",
     "showTitle": false,
     "tableResultSettingsMap": {},
     "title": ""
    }
   },
   "outputs": [],
   "source": [
    "%restart_python"
   ]
  },
  {
   "cell_type": "code",
   "execution_count": 0,
   "metadata": {
    "application/vnd.databricks.v1+cell": {
     "cellMetadata": {
      "byteLimit": 2048000,
      "rowLimit": 10000
     },
     "inputWidgets": {},
     "nuid": "59ef43dc-f6aa-4bb0-b45b-6f3947364f28",
     "showTitle": false,
     "tableResultSettingsMap": {},
     "title": ""
    }
   },
   "outputs": [],
   "source": [
    "# Race control messages ingestion -> f1_catalog.bronze.race_control_messages\n",
    "import fastf1, pandas as pd\n",
    "from pyspark.sql import SparkSession\n",
    "\n",
    "spark = SparkSession.builder.getOrCreate()\n",
    "\n",
    "# enable cache\n",
    "try:\n",
    "    fastf1.Cache.enable_cache(\"/Workspace/Users/niranjan.482000@gmail.com/F1-Race-Analytics/cache\")\n",
    "except Exception as e:\n",
    "    print(\"Cache warning:\", e)\n",
    "\n",
    "# load session (adjust year/gp/session)\n",
    "year = 2023\n",
    "gp = \"Bahrain\"\n",
    "sess_type = \"R\"\n",
    "\n",
    "session = fastf1.get_session(year, gp, sess_type)\n",
    "session.load(messages=True)\n",
    "\n",
    "# get race control messages\n",
    "messages = session.race_control_messages.copy()\n",
    "\n",
    "print(\"Raw columns:\", list(messages.columns))\n",
    "\n",
    "# keep only the main columns + session_key\n",
    "keep_cols = [\"Date\", \"Category\", \"Message\", \"Status\", \"Flag\", \"Scope\"]\n",
    "for col in keep_cols:\n",
    "    if col not in messages.columns:\n",
    "        messages[col] = None  # add missing cols if they don't exist\n",
    "\n",
    "# convert Date safely\n",
    "messages['Date'] = pd.to_datetime(messages['Date'], errors='coerce')\n",
    "\n",
    "# add session key\n",
    "messages['session_key'] = f\"{session.event['EventName']}_{session.name}_{pd.to_datetime(session.date).strftime('%Y%m%d')}\"\n",
    "\n",
    "# subset dataframe to keep_cols + session_key\n",
    "messages = messages[keep_cols + [\"session_key\"]]\n",
    "\n",
    "# create Spark DataFrame with inferred schema\n",
    "sdf = spark.createDataFrame(messages)\n",
    "\n",
    "# write to bronze delta table\n",
    "sdf.write.format(\"delta\").mode(\"append\").saveAsTable(\"f1_catalog.bronze.race_control_messages\")\n",
    "\n",
    "print(\"✅ Wrote race control messages to f1_catalog.bronze.race_control_messages\")\n",
    "\n",
    "display(spark.table(\"f1_catalog.bronze.race_control_messages\").orderBy(\"Date\", ascending=False).limit(10))\n"
   ]
  }
 ],
 "metadata": {
  "application/vnd.databricks.v1+notebook": {
   "computePreferences": {
    "hardware": {
     "accelerator": null,
     "gpuPoolId": null,
     "memory": null
    }
   },
   "dashboards": [],
   "environmentMetadata": {
    "base_environment": "",
    "environment_version": "3"
   },
   "inputWidgetPreferences": null,
   "language": "python",
   "notebookMetadata": {
    "pythonIndentUnit": 4
   },
   "notebookName": "07. Race_Control_Messages",
   "widgets": {}
  },
  "language_info": {
   "name": "python"
  }
 },
 "nbformat": 4,
 "nbformat_minor": 0
}
