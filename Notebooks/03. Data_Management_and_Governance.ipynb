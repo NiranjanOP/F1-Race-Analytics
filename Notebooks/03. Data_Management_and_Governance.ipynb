{
 "cells": [
  {
   "cell_type": "code",
   "execution_count": 0,
   "metadata": {
    "application/vnd.databricks.v1+cell": {
     "cellMetadata": {
      "byteLimit": 2048000,
      "rowLimit": 10000
     },
     "inputWidgets": {},
     "nuid": "e768825b-870f-4972-ad86-7dae14b7361d",
     "showTitle": false,
     "tableResultSettingsMap": {},
     "title": ""
    }
   },
   "outputs": [],
   "source": [
    "%pip install fastf1 matplotlib pandas"
   ]
  },
  {
   "cell_type": "code",
   "execution_count": 0,
   "metadata": {
    "application/vnd.databricks.v1+cell": {
     "cellMetadata": {
      "byteLimit": 2048000,
      "rowLimit": 10000
     },
     "inputWidgets": {},
     "nuid": "b40ec88f-9a29-4873-919a-1ac342d75463",
     "showTitle": false,
     "tableResultSettingsMap": {},
     "title": ""
    }
   },
   "outputs": [],
   "source": [
    "%restart_python"
   ]
  },
  {
   "cell_type": "code",
   "execution_count": 0,
   "metadata": {
    "application/vnd.databricks.v1+cell": {
     "cellMetadata": {
      "byteLimit": 2048000,
      "rowLimit": 10000
     },
     "inputWidgets": {},
     "nuid": "32bf02ee-0824-4270-80fe-b7d6c04aa6ab",
     "showTitle": false,
     "tableResultSettingsMap": {},
     "title": ""
    }
   },
   "outputs": [],
   "source": [
    "# Databricks notebook\n",
    "# Day 3 – Expanding Bronze Layer\n",
    "\n",
    "# COMMAND ----------\n",
    "\n",
    "# MAGIC %md\n",
    "# # Day 3 – Expanding Bronze Layer\n",
    "# In this notebook, we will:\n",
    "# - Ingest Session Info\n",
    "# - Ingest Weather Data\n",
    "# - Ingest Telemetry Data\n",
    "# All raw ingestions will go to `f1_catalog.bronze` schema.\n",
    "\n",
    "# COMMAND ----------\n",
    "\n",
    "from pyspark.sql import SparkSession\n",
    "import fastf1\n",
    "import pandas as pd\n",
    "\n",
    "spark = SparkSession.builder.getOrCreate()\n",
    "\n",
    "# Enable FastF1 cache (local to cluster or ADLS if configured)\n",
    "fastf1.Cache.enable_cache(\"/Workspace/Users/niranjan.482000@gmail.com/F1-Race-Analytics/cache\")\n",
    "\n",
    "year = 2023\n",
    "gp = \"Monza\"\n",
    "session = fastf1.get_session(year, gp, \"R\")\n",
    "session.load()\n",
    "\n",
    "# COMMAND ----------\n",
    "\n",
    "# MAGIC %md\n",
    "# ## 1. Session Info\n",
    "\n",
    "# COMMAND ----------\n",
    "\n",
    "session_info = {\n",
    "    \"Year\": year,\n",
    "    \"Round\": session.event[\"RoundNumber\"],\n",
    "    \"EventName\": session.event[\"EventName\"],\n",
    "    \"Circuit\": session.event[\"OfficialEventName\"],\n",
    "    \"SessionName\": session.name,\n",
    "    \"StartDate\": session.date,\n",
    "    \"EndDate\": session.date + session.session_info.get(\"Length\", pd.Timedelta(0))\n",
    "}\n",
    "\n",
    "session_df = pd.DataFrame([session_info])\n",
    "spark_df = spark.createDataFrame(session_df)\n",
    "\n",
    "spark.sql(\"CREATE SCHEMA IF NOT EXISTS f1_catalog.bronze\")\n",
    "spark_df.write.mode(\"overwrite\").format(\"delta\").saveAsTable(\"f1_catalog.bronze.session_info\")\n",
    "\n",
    "display(spark.table(\"f1_catalog.bronze.session_info\"))\n",
    "\n",
    "# COMMAND ----------\n",
    "\n",
    "# MAGIC %md\n",
    "# ## 2. Weather Data\n",
    "\n",
    "# COMMAND ----------\n",
    "\n",
    "weather_df = session.weather_data  # Pandas DataFrame\n",
    "weather_sdf = spark.createDataFrame(weather_df.reset_index())\n",
    "\n",
    "weather_sdf.write.mode(\"overwrite\").format(\"delta\").saveAsTable(\"f1_catalog.bronze.weather_data\")\n",
    "\n",
    "display(spark.table(\"f1_catalog.bronze.weather_data\").limit(5))\n",
    "\n",
    "# COMMAND ----------\n",
    "\n",
    "# MAGIC %md\n",
    "# ## 3. Telemetry Data (one driver to avoid huge size)\n",
    "# Example: Verstappen laps telemetry (Speed, Throttle, Brake, RPM).\n",
    "\n",
    "# COMMAND ----------\n",
    "\n",
    "laps = session.laps.pick_driver(\"VER\")  # telemetry only for Verstappen\n",
    "tel = laps.get_car_data().add_distance()  # adds Distance column\n",
    "\n",
    "tel_df = tel.reset_index()\n",
    "tel_sdf = spark.createDataFrame(tel_df)\n",
    "\n",
    "tel_sdf.write.mode(\"overwrite\").format(\"delta\").saveAsTable(\"f1_catalog.bronze.telemetry_ver\")\n",
    "\n",
    "display(spark.table(\"f1_catalog.bronze.telemetry_ver\").limit(5))\n",
    "\n",
    "# COMMAND ----------\n",
    "\n",
    "# MAGIC %md\n",
    "# # Bronze Layer Summary\n",
    "# - f1_catalog.bronze.lap_times (from Day 2)\n",
    "# - f1_catalog.bronze.session_info\n",
    "# - f1_catalog.bronze.weather_data\n",
    "# - f1_catalog.bronze.telemetry_ver\n"
   ]
  }
 ],
 "metadata": {
  "application/vnd.databricks.v1+notebook": {
   "computePreferences": null,
   "dashboards": [],
   "environmentMetadata": {
    "base_environment": "",
    "environment_version": "3"
   },
   "inputWidgetPreferences": null,
   "language": "python",
   "notebookMetadata": {
    "pythonIndentUnit": 4
   },
   "notebookName": "03. Data_Management_and_Governance",
   "widgets": {}
  },
  "language_info": {
   "name": "python"
  }
 },
 "nbformat": 4,
 "nbformat_minor": 0
}
