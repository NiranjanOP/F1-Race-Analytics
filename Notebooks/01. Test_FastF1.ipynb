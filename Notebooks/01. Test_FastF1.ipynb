{
 "cells": [
  {
   "cell_type": "markdown",
   "metadata": {
    "application/vnd.databricks.v1+cell": {
     "cellMetadata": {},
     "inputWidgets": {},
     "nuid": "842cc572-5506-4db8-a19f-3ec900bba26a",
     "showTitle": false,
     "tableResultSettingsMap": {},
     "title": ""
    }
   },
   "source": [
    "## Databricks notebook source\n",
    "### 01. Test FastF1 \n",
    "##### Purpose: Verify FastF1 installation and test pulling simple F1 data.  \n",
    "##### Output: Display first few rows of laps DataFrame for one race session.\n",
    "\n",
    "### Step 1: Install dependencies  \n",
    "##### Installing FastF1 (only needed first time).\n",
    "##### %pip install fastf1 matplotlib pandas\n",
    "\n",
    "### Step 2: Import libraries"
   ]
  },
  {
   "cell_type": "code",
   "execution_count": 0,
   "metadata": {
    "application/vnd.databricks.v1+cell": {
     "cellMetadata": {
      "byteLimit": 2048000,
      "rowLimit": 10000
     },
     "inputWidgets": {},
     "nuid": "1897121d-c9a0-43c6-8677-124d27aa858d",
     "showTitle": false,
     "tableResultSettingsMap": {},
     "title": ""
    }
   },
   "outputs": [],
   "source": [
    "%pip install fastf1 matplotlib pandas"
   ]
  },
  {
   "cell_type": "code",
   "execution_count": 0,
   "metadata": {
    "application/vnd.databricks.v1+cell": {
     "cellMetadata": {
      "byteLimit": 2048000,
      "rowLimit": 10000
     },
     "inputWidgets": {},
     "nuid": "d7b51e01-c6c9-40a5-8e18-28b03da47297",
     "showTitle": false,
     "tableResultSettingsMap": {},
     "title": ""
    }
   },
   "outputs": [],
   "source": [
    "import fastf1\n",
    "import pandas as pd\n",
    "import matplotlib.pyplot as plt"
   ]
  },
  {
   "cell_type": "code",
   "execution_count": 0,
   "metadata": {
    "application/vnd.databricks.v1+cell": {
     "cellMetadata": {
      "byteLimit": 2048000,
      "rowLimit": 10000
     },
     "inputWidgets": {},
     "nuid": "ba0a9aee-6b35-44e2-b952-976239668879",
     "showTitle": false,
     "tableResultSettingsMap": {},
     "title": ""
    }
   },
   "outputs": [],
   "source": [
    "# Enable cache (default is local driver disk in Databricks cluster)\n",
    "fastf1.Cache.enable_cache('/Workspace/Users/niranjan.482000@gmail.com/F1-Race-Analytics/cache')\n",
    "\n",
    "# COMMAND ----------\n",
    "\n",
    "# MAGIC %md\n",
    "# MAGIC ## Step 3: Load one session (Bahrain 2023 Race)\n",
    "\n",
    "# COMMAND ----------\n",
    "\n",
    "session = fastf1.get_session(2023, 'Bahrain', 'R')  # Year, Grand Prix, Session\n",
    "session.load()  # Download + cache data\n",
    "\n",
    "laps = session.laps\n",
    "display(laps.head())  # Databricks display\n",
    "\n",
    "# COMMAND ----------\n",
    "\n",
    "# MAGIC %md\n",
    "# MAGIC ## Step 4: Quick visualization  \n",
    "# MAGIC Plot lap times distribution for all drivers.\n",
    "\n",
    "# COMMAND ----------\n",
    "\n",
    "drivers = laps['Driver'].unique()\n",
    "plt.figure(figsize=(10,6))\n",
    "\n",
    "for drv in drivers[:5]:  # Plot for first 5 drivers only\n",
    "    drv_laps = laps.pick_driver(drv).pick_quicklaps()\n",
    "    plt.plot(drv_laps['LapNumber'], drv_laps['LapTime'].dt.total_seconds(), label=drv)\n",
    "\n",
    "plt.xlabel(\"Lap Number\")\n",
    "plt.ylabel(\"Lap Time (s)\")\n",
    "plt.title(\"Lap Times for First 5 Drivers - Bahrain 2023\")\n",
    "plt.legend()\n",
    "plt.show()\n"
   ]
  },
  {
   "cell_type": "code",
   "execution_count": 0,
   "metadata": {
    "application/vnd.databricks.v1+cell": {
     "cellMetadata": {
      "byteLimit": 2048000,
      "rowLimit": 10000
     },
     "inputWidgets": {},
     "nuid": "a48dfd0c-af67-4280-b7bb-274b863bb96e",
     "showTitle": false,
     "tableResultSettingsMap": {},
     "title": ""
    }
   },
   "outputs": [],
   "source": [
    "%restart_python"
   ]
  }
 ],
 "metadata": {
  "application/vnd.databricks.v1+notebook": {
   "computePreferences": null,
   "dashboards": [],
   "environmentMetadata": {
    "base_environment": "",
    "environment_version": "3"
   },
   "inputWidgetPreferences": null,
   "language": "python",
   "notebookMetadata": {
    "pythonIndentUnit": 4
   },
   "notebookName": "01. Test_FastF1",
   "widgets": {}
  },
  "language_info": {
   "name": "python"
  }
 },
 "nbformat": 4,
 "nbformat_minor": 0
}
