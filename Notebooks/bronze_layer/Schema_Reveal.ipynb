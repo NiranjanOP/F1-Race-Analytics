{
 "cells": [
  {
   "cell_type": "code",
   "execution_count": 0,
   "metadata": {
    "application/vnd.databricks.v1+cell": {
     "cellMetadata": {
      "byteLimit": 2048000,
      "rowLimit": 10000
     },
     "inputWidgets": {},
     "nuid": "7735c4bb-3a30-4cef-b47a-87c4529a6baf",
     "showTitle": false,
     "tableResultSettingsMap": {},
     "title": ""
    }
   },
   "outputs": [],
   "source": [
    "--DESCRIBE EXTENDED f1_catalog.bronze.circuit_info;\n",
    "--DESCRIBE EXTENDED f1_catalog.bronze.lap_times;\n",
    "--DESCRIBE EXTENDED f1_catalog.bronze.race_control_messages;\n",
    "--DESCRIBE EXTENDED f1_catalog.bronze.session_info;\n",
    "--DESCRIBE EXTENDED f1_catalog.bronze.session_metadata;\n",
    "--DESCRIBE EXTENDED f1_catalog.bronze.session_results;\n",
    "--DESCRIBE EXTENDED f1_catalog.bronze.telemetry_data;\n",
    "--DESCRIBE EXTENDED f1_catalog.bronze.telemetry_ver;\n",
    "DESCRIBE EXTENDED f1_catalog.bronze.weather_data;\n"
   ]
  }
 ],
 "metadata": {
  "application/vnd.databricks.v1+notebook": {
   "computePreferences": {
    "hardware": {
     "accelerator": null,
     "gpuPoolId": null,
     "memory": null
    }
   },
   "dashboards": [],
   "environmentMetadata": {
    "base_environment": "",
    "environment_version": "3"
   },
   "inputWidgetPreferences": null,
   "language": "sql",
   "notebookMetadata": {
    "pythonIndentUnit": 4
   },
   "notebookName": "Schema_Reveal",
   "widgets": {}
  },
  "language_info": {
   "name": "sql"
  }
 },
 "nbformat": 4,
 "nbformat_minor": 0
}
