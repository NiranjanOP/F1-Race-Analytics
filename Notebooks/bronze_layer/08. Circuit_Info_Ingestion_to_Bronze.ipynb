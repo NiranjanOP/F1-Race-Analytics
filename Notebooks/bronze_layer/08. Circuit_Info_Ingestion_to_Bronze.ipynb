{
 "cells": [
  {
   "cell_type": "code",
   "execution_count": 0,
   "metadata": {
    "application/vnd.databricks.v1+cell": {
     "cellMetadata": {
      "byteLimit": 2048000,
      "rowLimit": 10000
     },
     "inputWidgets": {},
     "nuid": "3770b37c-2b58-4bc5-825d-8dadcf8f74c8",
     "showTitle": false,
     "tableResultSettingsMap": {},
     "title": ""
    }
   },
   "outputs": [],
   "source": [
    "%pip install fastf1 matplotlib pandas"
   ]
  },
  {
   "cell_type": "code",
   "execution_count": 0,
   "metadata": {
    "application/vnd.databricks.v1+cell": {
     "cellMetadata": {
      "byteLimit": 2048000,
      "rowLimit": 10000
     },
     "inputWidgets": {},
     "nuid": "aa5436c4-bc1f-4bf3-904f-727757ef95fd",
     "showTitle": false,
     "tableResultSettingsMap": {},
     "title": ""
    }
   },
   "outputs": [],
   "source": [
    "%restart_python"
   ]
  },
  {
   "cell_type": "code",
   "execution_count": 0,
   "metadata": {
    "application/vnd.databricks.v1+cell": {
     "cellMetadata": {
      "byteLimit": 2048000,
      "rowLimit": 10000
     },
     "inputWidgets": {},
     "nuid": "1f0b5008-df51-4718-8ccb-704f123574e3",
     "showTitle": false,
     "tableResultSettingsMap": {},
     "title": ""
    }
   },
   "outputs": [],
   "source": [
    "# Circuit info ingestion - safe fully flattened\n",
    "import fastf1, pandas as pd, json\n",
    "from pyspark.sql import SparkSession\n",
    "\n",
    "spark = SparkSession.builder.getOrCreate()\n",
    "CACHE_PATH = \"/Workspace/Users/niranjan.482000@gmail.com/F1-Race-Analytics/cache\"\n",
    "try:\n",
    "    fastf1.Cache.enable_cache(CACHE_PATH)\n",
    "except Exception as e:\n",
    "    print(\"Cache enable warning:\", e)\n",
    "\n",
    "year = 2023\n",
    "gp = \"Bahrain\"\n",
    "sess_type = \"R\"\n",
    "session = fastf1.get_session(year, gp, sess_type)\n",
    "session.load()\n",
    "\n",
    "# safe circuit info\n",
    "try:\n",
    "    circuit_info = session.get_circuit_info()\n",
    "except Exception as e:\n",
    "    print(\"No circuit_info:\", e)\n",
    "    circuit_info = None\n",
    "\n",
    "def safe_val(obj, *attrs):\n",
    "    \"\"\"Return first non-None scalar/string value.\"\"\"\n",
    "    for a in attrs:\n",
    "        v = getattr(obj, a, None) if obj else None\n",
    "        if v is not None:\n",
    "            return v\n",
    "    return None\n",
    "\n",
    "# candidate collections\n",
    "def safe_list(obj, *names):\n",
    "    for n in names:\n",
    "        val = getattr(obj, n, None) if obj else None\n",
    "        if val is None:\n",
    "            continue\n",
    "        if isinstance(val, (list, pd.Series, pd.DataFrame)):\n",
    "            return list(val)\n",
    "        return [val]\n",
    "    return []\n",
    "\n",
    "records = []\n",
    "if circuit_info:\n",
    "    candidates = {\n",
    "        \"corners\": safe_list(circuit_info, \"corners\", \"cornerList\"),\n",
    "        \"marshal_sectors\": safe_list(circuit_info, \"marshalSectors\", \"marshal_sectors\"),\n",
    "        \"marshal_lights\": safe_list(circuit_info, \"marshalLights\", \"marshal_lights\"),\n",
    "        \"track_markers\": safe_list(circuit_info, \"track_markers\", \"markers\"),\n",
    "    }\n",
    "\n",
    "    for rec_type, coll in candidates.items():\n",
    "        for idx, entry in enumerate(coll):\n",
    "            if not isinstance(entry, dict):\n",
    "                # convert non-dict entries to string\n",
    "                entry_dict = {\"raw\": str(entry)}\n",
    "            else:\n",
    "                entry_dict = entry.copy()\n",
    "            records.append({\n",
    "                \"record_type\": rec_type,\n",
    "                \"idx\": idx,\n",
    "                \"number\": entry_dict.get(\"number\"),\n",
    "                \"name\": entry_dict.get(\"name\"),\n",
    "                \"angle\": entry_dict.get(\"angle\"),\n",
    "                \"distance\": entry_dict.get(\"distance\"),\n",
    "                \"location\": entry_dict.get(\"location\"),\n",
    "                \"raw\": entry_dict.get(\"raw\") or json.dumps(entry_dict)\n",
    "            })\n",
    "\n",
    "# ensure at least one row\n",
    "if not records:\n",
    "    records = [{\"record_type\": None,\"idx\": None,\"number\": None,\"name\": None,\"angle\": None,\"distance\": None,\"location\": None,\"raw\": None}]\n",
    "\n",
    "circuit_df = pd.DataFrame(records, columns=[\n",
    "    \"record_type\", \"idx\", \"number\", \"name\", \"angle\", \"distance\", \"location\", \"raw\"\n",
    "])\n",
    "\n",
    "# add metadata\n",
    "circuit_df[\"circuit_name\"] = safe_val(circuit_info, \"name\", \"circuit_name\")\n",
    "circuit_df[\"circuit_location\"] = safe_val(circuit_info, \"location\", \"city\")\n",
    "circuit_df[\"circuit_country\"] = safe_val(circuit_info, \"country\")\n",
    "circuit_df[\"event_name\"] = session.event.EventName if hasattr(session.event, \"EventName\") else gp\n",
    "circuit_df[\"year\"] = year\n",
    "circuit_df[\"round\"] = getattr(session.event, \"RoundNumber\", None)\n",
    "circuit_df[\"session_name\"] = session.name\n",
    "circuit_df[\"session_key\"] = f\"{circuit_df['event_name'].iloc[0]}_{session.name}_{pd.to_datetime(session.date).strftime('%Y%m%d')}\"\n",
    "\n",
    "# create Spark DF safely\n",
    "sdf = spark.createDataFrame(circuit_df.astype(str))  # convert everything to string\n",
    "sdf.write.format(\"delta\").mode(\"append\").saveAsTable(\"f1_catalog.bronze.circuit_info\")\n",
    "\n",
    "print(f\"✅ Wrote {len(circuit_df)} rows\")\n",
    "display(spark.table(\"f1_catalog.bronze.circuit_info\").where(f\"session_key = '{circuit_df['session_key'].iloc[0]}'\").limit(20))\n"
   ]
  }
 ],
 "metadata": {
  "application/vnd.databricks.v1+notebook": {
   "computePreferences": null,
   "dashboards": [],
   "environmentMetadata": {
    "base_environment": "",
    "environment_version": "3"
   },
   "inputWidgetPreferences": null,
   "language": "python",
   "notebookMetadata": {
    "pythonIndentUnit": 4
   },
   "notebookName": "08. Circuit_Info_Ingestion_to_Bronze",
   "widgets": {}
  },
  "language_info": {
   "name": "python"
  }
 },
 "nbformat": 4,
 "nbformat_minor": 0
}
