{
 "cells": [
  {
   "cell_type": "code",
   "execution_count": 0,
   "metadata": {
    "application/vnd.databricks.v1+cell": {
     "cellMetadata": {
      "byteLimit": 2048000,
      "rowLimit": 10000
     },
     "inputWidgets": {},
     "nuid": "b3b2b092-1281-409f-86fd-648ee4402530",
     "showTitle": false,
     "tableResultSettingsMap": {},
     "title": ""
    }
   },
   "outputs": [],
   "source": [
    "%pip install fastf1 matplotlib pandas"
   ]
  },
  {
   "cell_type": "code",
   "execution_count": 0,
   "metadata": {
    "application/vnd.databricks.v1+cell": {
     "cellMetadata": {
      "byteLimit": 2048000,
      "rowLimit": 10000
     },
     "inputWidgets": {},
     "nuid": "3d869922-015a-4b8d-a2da-4a8f2ef080b0",
     "showTitle": false,
     "tableResultSettingsMap": {},
     "title": ""
    }
   },
   "outputs": [],
   "source": [
    "%restart_python"
   ]
  },
  {
   "cell_type": "code",
   "execution_count": 0,
   "metadata": {
    "application/vnd.databricks.v1+cell": {
     "cellMetadata": {
      "byteLimit": 2048000,
      "rowLimit": 10000
     },
     "inputWidgets": {},
     "nuid": "e1899ea5-79b4-43de-9b99-eb1c331a970b",
     "showTitle": false,
     "tableResultSettingsMap": {},
     "title": ""
    }
   },
   "outputs": [],
   "source": [
    "import fastf1\n",
    "import pandas as pd\n",
    "from pyspark.sql import SparkSession\n",
    "from pyspark.sql.types import *\n",
    "\n",
    "# Enable cache\n",
    "fastf1.Cache.enable_cache(\"/Workspace/Users/niranjan.482000@gmail.com/F1-Race-Analytics/cache\")\n",
    "\n",
    "# COMMAND ----------\n",
    "\n",
    "# Load a session (same as lap_times)\n",
    "session = fastf1.get_session(2023, \"Bahrain\", \"R\")\n",
    "session.load()\n",
    "\n",
    "# COMMAND ----------\n",
    "\n",
    "# Extract weather data\n",
    "weather_df = session.weather_data  # pandas DataFrame\n",
    "display(weather_df.head())\n",
    "\n",
    "# COMMAND ----------\n",
    "\n",
    "# Convert Pandas -> Spark\n",
    "spark_df = spark.createDataFrame(weather_df)\n",
    "\n",
    "# Inspect schema\n",
    "spark_df.printSchema()\n",
    "spark_df.show(5)\n",
    "\n",
    "# COMMAND ----------\n",
    "\n",
    "# Save as Bronze Delta Table\n",
    "catalog = \"f1_catalog\"\n",
    "schema = \"bronze\"\n",
    "table_name = \"weather_data\"\n",
    "\n",
    "(spark_df.write\n",
    " .mode(\"overwrite\")\n",
    " .format(\"delta\")\n",
    " .option(\"overwriteSchema\", \"true\")\n",
    " .saveAsTable(f\"{catalog}.{schema}.{table_name}\")\n",
    ")\n",
    "\n",
    "print(f\"Saved to {catalog}.{schema}.{table_name}\")\n"
   ]
  },
  {
   "cell_type": "code",
   "execution_count": 0,
   "metadata": {
    "application/vnd.databricks.v1+cell": {
     "cellMetadata": {
      "byteLimit": 2048000,
      "implicitDf": true,
      "rowLimit": 10000
     },
     "inputWidgets": {},
     "nuid": "0cb461ca-5aca-4721-99ec-9fe6b246cda3",
     "showTitle": false,
     "tableResultSettingsMap": {},
     "title": ""
    }
   },
   "outputs": [],
   "source": [
    "%sql\n",
    "DESCRIBE EXTENDED f1_catalog.bronze.weather_data"
   ]
  }
 ],
 "metadata": {
  "application/vnd.databricks.v1+notebook": {
   "computePreferences": null,
   "dashboards": [],
   "environmentMetadata": {
    "base_environment": "",
    "environment_version": "3"
   },
   "inputWidgetPreferences": null,
   "language": "python",
   "notebookMetadata": {
    "mostRecentlyExecutedCommandWithImplicitDF": {
     "commandId": 6019265390097308,
     "dataframes": [
      "_sqldf"
     ]
    },
    "pythonIndentUnit": 4
   },
   "notebookName": "04. Ingesting_Weather_data_to_Bronze",
   "widgets": {}
  },
  "language_info": {
   "name": "python"
  }
 },
 "nbformat": 4,
 "nbformat_minor": 0
}
