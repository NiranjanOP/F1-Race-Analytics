{
 "cells": [
  {
   "cell_type": "code",
   "execution_count": 0,
   "metadata": {
    "application/vnd.databricks.v1+cell": {
     "cellMetadata": {
      "byteLimit": 2048000,
      "rowLimit": 10000
     },
     "inputWidgets": {},
     "nuid": "93a81156-252a-4544-b7ac-ecd3ab7bd573",
     "showTitle": false,
     "tableResultSettingsMap": {},
     "title": ""
    }
   },
   "outputs": [],
   "source": [
    "%pip install fastf1 matplotlib pandas"
   ]
  },
  {
   "cell_type": "code",
   "execution_count": 0,
   "metadata": {
    "application/vnd.databricks.v1+cell": {
     "cellMetadata": {
      "byteLimit": 2048000,
      "rowLimit": 10000
     },
     "inputWidgets": {},
     "nuid": "c7bc24a5-92a8-4430-9794-2b0329e4500f",
     "showTitle": false,
     "tableResultSettingsMap": {},
     "title": ""
    }
   },
   "outputs": [],
   "source": [
    "%restart_python"
   ]
  },
  {
   "cell_type": "code",
   "execution_count": 0,
   "metadata": {
    "application/vnd.databricks.v1+cell": {
     "cellMetadata": {
      "byteLimit": 2048000,
      "rowLimit": 10000
     },
     "inputWidgets": {},
     "nuid": "85fad1aa-27db-4b1c-a6b2-55c9c4463fa7",
     "showTitle": false,
     "tableResultSettingsMap": {},
     "title": ""
    }
   },
   "outputs": [],
   "source": [
    "import fastf1\n",
    "import pandas as pd\n",
    "from pyspark.sql import SparkSession\n",
    "from pyspark.sql.functions import lit\n",
    "import warnings\n",
    "warnings.filterwarnings(\"ignore\")\n",
    "\n",
    "# Enable cache\n",
    "fastf1.Cache.enable_cache(\"/Workspace/Users/niranjan.482000@gmail.com/F1-Race-Analytics/cache\")\n",
    "\n",
    "# COMMAND ----------\n",
    "\n",
    "# Load a session\n",
    "session = fastf1.get_session(2023, \"Bahrain\", \"R\")  # Race\n",
    "session.load()\n",
    "\n",
    "# COMMAND ----------\n",
    "\n",
    "# Extract telemetry data for all drivers\n",
    "all_tel_dfs = []\n",
    "\n",
    "for drv in session.drivers:\n",
    "    drv_laps = session.laps.pick_driver(drv)\n",
    "    if len(drv_laps) == 0:\n",
    "        continue\n",
    "    \n",
    "    # Get telemetry for each lap\n",
    "    for _, lap in drv_laps.iterlaps():\n",
    "        try:\n",
    "            tel = lap.get_car_data().add_distance()  # pandas DataFrame\n",
    "            tel[\"Driver\"] = drv\n",
    "            tel[\"LapNumber\"] = lap[\"LapNumber\"]\n",
    "            all_tel_dfs.append(tel)\n",
    "        except:\n",
    "            continue\n",
    "\n",
    "telemetry_df = pd.concat(all_tel_dfs, ignore_index=True)\n",
    "\n",
    "print(\"Telemetry shape:\", telemetry_df.shape)\n",
    "display(telemetry_df.head())\n",
    "\n",
    "# COMMAND ----------\n",
    "\n",
    "# Convert Pandas -> Spark\n",
    "spark_df = spark.createDataFrame(telemetry_df)\n",
    "\n",
    "# Inspect schema\n",
    "spark_df.printSchema()\n",
    "spark_df.show(5)\n",
    "\n",
    "# COMMAND ----------\n",
    "\n",
    "# Save as Bronze Delta Table\n",
    "catalog = \"f1_catalog\"\n",
    "schema = \"bronze\"\n",
    "table_name = \"telemetry_data\"\n",
    "\n",
    "(spark_df.write\n",
    " .mode(\"overwrite\")\n",
    " .format(\"delta\")\n",
    " .option(\"overwriteSchema\", \"true\")\n",
    " .saveAsTable(f\"{catalog}.{schema}.{table_name}\")\n",
    ")\n",
    "\n",
    "print(f\"Saved to {catalog}.{schema}.{table_name}\")\n"
   ]
  }
 ],
 "metadata": {
  "application/vnd.databricks.v1+notebook": {
   "computePreferences": null,
   "dashboards": [],
   "environmentMetadata": {
    "base_environment": "",
    "environment_version": "3"
   },
   "inputWidgetPreferences": null,
   "language": "python",
   "notebookMetadata": {
    "pythonIndentUnit": 4
   },
   "notebookName": "05. Telemetry_Data_Ingestion_to_Bronze",
   "widgets": {}
  },
  "language_info": {
   "name": "python"
  }
 },
 "nbformat": 4,
 "nbformat_minor": 0
}
