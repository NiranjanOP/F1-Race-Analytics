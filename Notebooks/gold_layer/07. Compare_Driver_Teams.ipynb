{
 "cells": [
  {
   "cell_type": "markdown",
   "metadata": {
    "application/vnd.databricks.v1+cell": {
     "cellMetadata": {},
     "inputWidgets": {},
     "nuid": "a46b4f52-73ec-48fd-ae87-7db15bba4fd6",
     "showTitle": false,
     "tableResultSettingsMap": {},
     "title": ""
    }
   },
   "source": [
    "# Gold Layer - Driver Teams\n",
    "\n",
    "## Overview\n",
    "This notebook builds the **Driver Teams** gold table.  \n",
    "It provides a historical mapping of drivers to teams for each season, capturing details such as  \n",
    "driver metadata, team metadata, and the active years.\n",
    "\n",
    "## Steps\n",
    "1. **Read Silver Tables**  \n",
    "   - `session_results_silver` (driver + team mapping).  \n",
    "   - `circuit_info_silver` (to get season/year and event details).  \n",
    "\n",
    "2. **Build Driver-Team Mapping**  \n",
    "   - Extract distinct combinations of `DriverId`, `FullName`, `TeamId`, `TeamName`, and `year`.  \n",
    "   - Track multiple stints across teams within a season (if any).  \n",
    "\n",
    "3. **Add Aggregated Metadata**  \n",
    "   - Count races driven for each team in a season.  \n",
    "   - Earliest and latest rounds with that team in the season.  \n",
    "\n",
    "4. **Write Gold Table**  \n",
    "   - Store as `driver_teams_gold` in Delta format, partitioned by `year`.  \n",
    "\n",
    "## Output\n",
    "- One row per driver-team-season mapping.  \n",
    "- Includes team and driver details, races participated, and round span.  \n"
   ]
  },
  {
   "cell_type": "code",
   "execution_count": 0,
   "metadata": {
    "application/vnd.databricks.v1+cell": {
     "cellMetadata": {},
     "inputWidgets": {},
     "nuid": "3ef2f808-d428-4050-b270-da647d06100c",
     "showTitle": false,
     "tableResultSettingsMap": {},
     "title": ""
    }
   },
   "outputs": [],
   "source": [
    "from pyspark.sql import functions as F\n",
    "\n",
    "# Load silver layer tables\n",
    "session_results = spark.table(\"silver.session_results_silver\")\n",
    "circuit_info = spark.table(\"silver.circuit_info_silver\")\n",
    "\n",
    "# Join results with circuit info to include year and round\n",
    "results_with_season = (\n",
    "    session_results\n",
    "    .join(circuit_info, \n",
    "          (session_results[\"round\"] == circuit_info[\"round\"]) &\n",
    "          (session_results[\"year\"] == circuit_info[\"year\"]), \n",
    "          \"inner\")\n",
    "    .select(\n",
    "        session_results[\"DriverId\"],\n",
    "        session_results[\"FullName\"],\n",
    "        session_results[\"Abbreviation\"],\n",
    "        session_results[\"CountryCode\"],\n",
    "        session_results[\"TeamId\"],\n",
    "        session_results[\"TeamName\"],\n",
    "        session_results[\"DriverNumber\"],\n",
    "        circuit_info[\"year\"],\n",
    "        circuit_info[\"round\"],\n",
    "        circuit_info[\"event_name\"]\n",
    "    )\n",
    ")\n",
    "\n",
    "# Build driver-team mapping per season\n",
    "driver_team_mapping = (\n",
    "    results_with_season\n",
    "    .groupBy(\"year\", \"DriverId\", \"FullName\", \"Abbreviation\", \"CountryCode\", \n",
    "             \"TeamId\", \"TeamName\", \"DriverNumber\")\n",
    "    .agg(\n",
    "        F.countDistinct(\"round\").alias(\"RacesWithTeam\"),\n",
    "        F.min(\"round\").alias(\"FirstRound\"),\n",
    "        F.max(\"round\").alias(\"LastRound\")\n",
    "    )\n",
    "    .orderBy(\"year\", \"DriverId\", \"FirstRound\")\n",
    ")\n",
    "\n",
    "# Write to gold layer\n",
    "(\n",
    "    driver_team_mapping\n",
    "    .write\n",
    "    .format(\"delta\")\n",
    "    .mode(\"overwrite\")\n",
    "    .partitionBy(\"year\")\n",
    "    .saveAsTable(\"gold.driver_teams_gold\")\n",
    ")"
   ]
  }
 ],
 "metadata": {
  "application/vnd.databricks.v1+notebook": {
   "computePreferences": null,
   "dashboards": [],
   "environmentMetadata": {
    "base_environment": "",
    "environment_version": "3"
   },
   "inputWidgetPreferences": null,
   "language": "python",
   "notebookMetadata": {
    "pythonIndentUnit": 4
   },
   "notebookName": "07. Compare_Driver_Teams",
   "widgets": {}
  },
  "language_info": {
   "name": "python"
  }
 },
 "nbformat": 4,
 "nbformat_minor": 0
}
