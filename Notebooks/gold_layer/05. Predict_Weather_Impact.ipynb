{
 "cells": [
  {
   "cell_type": "markdown",
   "metadata": {
    "application/vnd.databricks.v1+cell": {
     "cellMetadata": {},
     "inputWidgets": {},
     "nuid": "402fae40-e493-4285-bc3b-c44ced167c45",
     "showTitle": false,
     "tableResultSettingsMap": {},
     "title": ""
    }
   },
   "source": [
    "# Gold Layer – Weather Impact\n",
    "\n",
    "## Objective\n",
    "This notebook creates insights on how weather conditions affect lap times, tire performance, and race results.\n",
    "\n",
    "## Steps\n",
    "1. Load Silver tables:\n",
    "   - `lap_times` (performance metrics)\n",
    "   - `weather_data` (conditions per session)\n",
    "   - `session_info` (metadata enrichment)\n",
    "2. Align lap timestamps with weather snapshots.\n",
    "3. Compute correlations:\n",
    "   - Avg lap time by rainfall/humidity/track temp.\n",
    "   - Pit stop frequency under different weather conditions.\n",
    "   - Speed variation in different weather states.\n",
    "4. Join with session info for year, round, and circuit.\n",
    "5. Store results in Gold layer as `gold.weather_impact`.\n",
    "6. Optimize with ZORDER on `(session_key, Driver)`.\n"
   ]
  },
  {
   "cell_type": "code",
   "execution_count": 0,
   "metadata": {
    "application/vnd.databricks.v1+cell": {
     "cellMetadata": {},
     "inputWidgets": {},
     "nuid": "d82b4bc5-1b29-4c82-bbe5-740a9f1b5ef8",
     "showTitle": false,
     "tableResultSettingsMap": {},
     "title": ""
    }
   },
   "outputs": [],
   "source": [
    "from pyspark.sql import functions as F\n",
    "from pyspark.sql.window import Window\n",
    "\n",
    "# 1. Load Silver tables\n",
    "laps = spark.table(\"silver.lap_times\")\n",
    "weather = spark.table(\"silver.weather_data\")\n",
    "session_info = spark.table(\"silver.session_info\")\n",
    "\n",
    "# 2. Standardize timestamps\n",
    "laps = laps.withColumn(\"lap_start_time\", F.col(\"lap_start_time\").cast(\"timestamp\"))\n",
    "weather = weather.withColumn(\"Time\", F.col(\"Time\").cast(\"timestamp\"))\n",
    "\n",
    "# 3. Join laps with weather using nearest timestamp per session\n",
    "window_spec = Window.partitionBy(\"session_key\").orderBy(F.abs(F.col(\"lap_start_time\").cast(\"long\") - F.col(\"Time\").cast(\"long\")))\n",
    "\n",
    "lap_weather = (\n",
    "    laps.join(weather, \"session_key\")\n",
    "    .withColumn(\"time_diff\", F.abs(F.col(\"lap_start_time\").cast(\"long\") - F.col(\"Time\").cast(\"long\")))\n",
    "    .withColumn(\"rank\", F.row_number().over(window_spec))\n",
    "    .filter(\"rank = 1\")\n",
    "    .drop(\"time_diff\", \"rank\")\n",
    ")\n",
    "\n",
    "# 4. Compute weather impact metrics\n",
    "weather_impact = (\n",
    "    lap_weather.groupBy(\"session_key\", \"Driver\")\n",
    "    .agg(\n",
    "        F.avg(\"lap_time\").alias(\"avg_lap_time\"),\n",
    "        F.avg(\"Rainfall\").alias(\"avg_rainfall\"),\n",
    "        F.avg(\"TrackTemp\").alias(\"avg_track_temp\"),\n",
    "        F.avg(\"AirTemp\").alias(\"avg_air_temp\"),\n",
    "        F.avg(\"Humidity\").alias(\"avg_humidity\"),\n",
    "        F.avg(\"WindSpeed\").alias(\"avg_wind_speed\"),\n",
    "        F.count(F.when(F.col(\"PitInTime\").isNotNull(), 1)).alias(\"pit_stops\")\n",
    "    )\n",
    ")\n",
    "\n",
    "# 5. Enrich with session info\n",
    "weather_impact = weather_impact.join(session_info, \"session_key\", \"left\")\n",
    "\n",
    "# 6. Select final schema\n",
    "weather_impact = weather_impact.select(\n",
    "    \"session_key\",\n",
    "    \"Driver\",\n",
    "    \"Year\",\n",
    "    \"Round\",\n",
    "    \"Circuit\",\n",
    "    \"SessionName\",\n",
    "    \"EventName\",\n",
    "    \"avg_lap_time\",\n",
    "    \"avg_rainfall\",\n",
    "    \"avg_track_temp\",\n",
    "    \"avg_air_temp\",\n",
    "    \"avg_humidity\",\n",
    "    \"avg_wind_speed\",\n",
    "    \"pit_stops\"\n",
    ")\n",
    "\n",
    "# 7. Write to Gold layer\n",
    "(\n",
    "    weather_impact.write.format(\"delta\")\n",
    "    .mode(\"overwrite\")\n",
    "    .option(\"overwriteSchema\", \"true\")\n",
    "    .saveAsTable(\"gold.weather_impact\")\n",
    ")\n",
    "\n",
    "# 8. Optimize\n",
    "spark.sql(\"OPTIMIZE gold.weather_impact ZORDER BY (session_key, Driver)\")"
   ]
  }
 ],
 "metadata": {
  "application/vnd.databricks.v1+notebook": {
   "computePreferences": null,
   "dashboards": [],
   "environmentMetadata": {
    "base_environment": "",
    "environment_version": "3"
   },
   "inputWidgetPreferences": null,
   "language": "python",
   "notebookMetadata": {
    "pythonIndentUnit": 4
   },
   "notebookName": "05. Predict_Weather_Impact",
   "widgets": {}
  },
  "language_info": {
   "name": "python"
  }
 },
 "nbformat": 4,
 "nbformat_minor": 0
}
