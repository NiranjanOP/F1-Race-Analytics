{
 "cells": [
  {
   "cell_type": "markdown",
   "metadata": {
    "application/vnd.databricks.v1+cell": {
     "cellMetadata": {},
     "inputWidgets": {},
     "nuid": "6c5d2481-7940-4cb0-aba6-783eff965b96",
     "showTitle": false,
     "tableResultSettingsMap": {},
     "title": ""
    }
   },
   "source": [
    "# Gold Layer – Telemetry Insights\n",
    "\n",
    "## Objective\n",
    "This notebook aggregates telemetry data into driver-level insights per session.  \n",
    "It helps analyze driving styles, speed consistency, and car performance.\n",
    "\n",
    "## Steps\n",
    "1. Load Silver telemetry data (`telemetry_data`) and session info (`session_info`).  \n",
    "2. Convert timestamps and align with session metadata.  \n",
    "3. Compute driver-level metrics:\n",
    "   - Average, max, and min speed  \n",
    "   - Average throttle & braking percentages  \n",
    "   - Gear usage distribution  \n",
    "   - Distance covered  \n",
    "4. Join with session info for contextual enrichment (year, round, circuit, session name).  \n",
    "5. Store results in Gold layer as `gold.telemetry_insights`.  \n",
    "6. Optimize table with ZORDER by `(session_key, Driver)`.  \n"
   ]
  },
  {
   "cell_type": "code",
   "execution_count": 0,
   "metadata": {
    "application/vnd.databricks.v1+cell": {
     "cellMetadata": {},
     "inputWidgets": {},
     "nuid": "6353bb86-ef9a-457b-8f30-01dfa6d0260c",
     "showTitle": false,
     "tableResultSettingsMap": {},
     "title": ""
    }
   },
   "outputs": [],
   "source": [
    "from pyspark.sql import functions as F\n",
    "\n",
    "# 1. Load Silver tables\n",
    "telemetry = spark.table(\"silver.telemetry_data\")\n",
    "session_info = spark.table(\"silver.session_info\")\n",
    "\n",
    "# 2. Clean and standardize telemetry data\n",
    "telemetry = telemetry.withColumnRenamed(\"Date\", \"telemetry_time\")\n",
    "\n",
    "# Ensure numeric columns are safe\n",
    "telemetry = telemetry.withColumn(\"Speed\", F.col(\"Speed\").cast(\"double\"))\n",
    "telemetry = telemetry.withColumn(\"Throttle\", F.col(\"Throttle\").cast(\"double\"))\n",
    "telemetry = telemetry.withColumn(\"Brake\", F.col(\"Brake\").cast(\"double\"))\n",
    "telemetry = telemetry.withColumn(\"Distance\", F.col(\"Distance\").cast(\"double\"))\n",
    "telemetry = telemetry.withColumn(\"nGear\", F.col(\"nGear\").cast(\"int\"))\n",
    "\n",
    "# 3. Aggregate telemetry metrics at driver + session level\n",
    "telemetry_agg = (\n",
    "    telemetry.groupBy(\"session_key\", \"Driver\")\n",
    "    .agg(\n",
    "        F.avg(\"Speed\").alias(\"avg_speed\"),\n",
    "        F.max(\"Speed\").alias(\"max_speed\"),\n",
    "        F.min(\"Speed\").alias(\"min_speed\"),\n",
    "        F.avg(\"Throttle\").alias(\"avg_throttle\"),\n",
    "        F.avg(\"Brake\").alias(\"avg_brake\"),\n",
    "        F.expr(\"percentile_approx(Speed, 0.5)\").alias(\"median_speed\"),\n",
    "        F.sum(\"Distance\").alias(\"total_distance\"),\n",
    "        F.countDistinct(\"nGear\").alias(\"unique_gears_used\")\n",
    "    )\n",
    ")\n",
    "\n",
    "# 4. Join with session info for enrichment\n",
    "telemetry_insights = (\n",
    "    telemetry_agg.join(session_info, on=\"session_key\", how=\"left\")\n",
    ")\n",
    "\n",
    "# 5. Finalize schema\n",
    "telemetry_insights = telemetry_insights.select(\n",
    "    \"session_key\",\n",
    "    \"Driver\",\n",
    "    \"Year\",\n",
    "    \"Round\",\n",
    "    \"Circuit\",\n",
    "    \"SessionName\",\n",
    "    \"EventName\",\n",
    "    \"avg_speed\",\n",
    "    \"max_speed\",\n",
    "    \"min_speed\",\n",
    "    \"median_speed\",\n",
    "    \"avg_throttle\",\n",
    "    \"avg_brake\",\n",
    "    \"total_distance\",\n",
    "    \"unique_gears_used\"\n",
    ")\n",
    "\n",
    "# 6. Write to Gold layer\n",
    "(\n",
    "    telemetry_insights.write.format(\"delta\")\n",
    "    .mode(\"overwrite\")\n",
    "    .option(\"overwriteSchema\", \"true\")\n",
    "    .saveAsTable(\"gold.telemetry_insights\")\n",
    ")\n",
    "\n",
    "# 7. Optimize\n",
    "spark.sql(\"OPTIMIZE gold.telemetry_insights ZORDER BY (session_key, Driver)\")"
   ]
  }
 ],
 "metadata": {
  "application/vnd.databricks.v1+notebook": {
   "computePreferences": null,
   "dashboards": [],
   "environmentMetadata": {
    "base_environment": "",
    "environment_version": "3"
   },
   "inputWidgetPreferences": null,
   "language": "python",
   "notebookMetadata": {
    "pythonIndentUnit": 4
   },
   "notebookName": "04. Create_Telemetry_Insights",
   "widgets": {}
  },
  "language_info": {
   "name": "python"
  }
 },
 "nbformat": 4,
 "nbformat_minor": 0
}
