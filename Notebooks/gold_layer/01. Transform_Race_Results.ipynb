{
 "cells": [
  {
   "cell_type": "markdown",
   "metadata": {
    "application/vnd.databricks.v1+cell": {
     "cellMetadata": {},
     "inputWidgets": {},
     "nuid": "dcbf0b5c-e1ab-40b3-9945-0e2d84d29ef8",
     "showTitle": false,
     "tableResultSettingsMap": {},
     "title": ""
    }
   },
   "source": [
    "# Gold Layer – Race Results\n",
    "\n",
    "## Objective\n",
    "This notebook creates the `gold.race_results` table by enriching race result data from the Silver layer.  \n",
    "We join **session_results** with **circuit_info** to build a consolidated race results dataset that includes:\n",
    "- Driver and team details  \n",
    "- Circuit and event metadata  \n",
    "- Derived race metrics  \n",
    "\n",
    "## Steps\n",
    "1. Load Silver layer tables: `session_results`, `circuit_info`.  \n",
    "2. Join on `session_key` and `year+round` where needed.  \n",
    "3. Select and enrich columns: driver, team, circuit, event info.  \n",
    "4. Compute derived columns such as:\n",
    "   - `race_duration` (end-to-start time difference)  \n",
    "   - `is_podium` flag (position <= 3)  \n",
    "   - `is_fastest` flag for fastest lap in race  \n",
    "5. Remove duplicates and handle nulls.  \n",
    "6. Write the transformed data into the Gold layer as a Delta table `gold.race_results`.  \n",
    "7. Optimize with ZORDER on `(year, round)` for query performance.  \n"
   ]
  },
  {
   "cell_type": "code",
   "execution_count": 0,
   "metadata": {
    "application/vnd.databricks.v1+cell": {
     "cellMetadata": {},
     "inputWidgets": {},
     "nuid": "abb7706f-b041-4c0c-ba37-ae1856b821a4",
     "showTitle": false,
     "tableResultSettingsMap": {},
     "title": ""
    }
   },
   "outputs": [],
   "source": [
    "from pyspark.sql import functions as F\n",
    "from pyspark.sql.window import Window\n",
    "\n",
    "# 1. Load Silver tables\n",
    "session_results = spark.table(\"silver.session_results\")\n",
    "circuit_info = spark.table(\"silver.circuit_info\")\n",
    "\n",
    "# 2. Join session_results with circuit_info\n",
    "race_results_df = (\n",
    "    session_results.alias(\"sr\")\n",
    "    .join(\n",
    "        circuit_info.alias(\"ci\"),\n",
    "        on=[\"session_key\", \"year\", \"round\"],\n",
    "        how=\"left\"\n",
    "    )\n",
    ")\n",
    "\n",
    "# 3. Select relevant columns & enrich\n",
    "race_results_df = (\n",
    "    race_results_df.select(\n",
    "        \"sr.DriverId\", \"sr.DriverNumber\", \"sr.FirstName\", \"sr.LastName\", \"sr.FullName\",\n",
    "        \"sr.Abbreviation\", \"sr.TeamName\", \"sr.TeamId\", \"sr.TeamColor\",\n",
    "        \"sr.Position\", \"sr.GridPosition\", \"sr.Points\", \"sr.Status\",\n",
    "        \"sr.Laps\", \"sr.Time\",\n",
    "        \"ci.circuit_name\", \"ci.circuit_country\", \"ci.location\", \"ci.distance\",\n",
    "        \"ci.event_name\", \"ci.session_name\", \"ci.year\", \"ci.round\", \"ci.session_key\"\n",
    "    )\n",
    "    .withColumn(\"is_podium\", F.when(F.col(\"Position\") <= 3, F.lit(True)).otherwise(F.lit(False)))\n",
    ")\n",
    "\n",
    "# 4. Compute fastest lap flag (window by session_key)\n",
    "w = Window.partitionBy(\"session_key\").orderBy(F.col(\"Time\").asc_nulls_last())\n",
    "race_results_df = race_results_df.withColumn(\"row_num\", F.row_number().over(w))\n",
    "race_results_df = race_results_df.withColumn(\"is_fastest\", F.when(F.col(\"row_num\") == 1, True).otherwise(False))\n",
    "race_results_df = race_results_df.drop(\"row_num\")\n",
    "\n",
    "# 5. Remove duplicates\n",
    "race_results_df = race_results_df.dropDuplicates()\n",
    "\n",
    "# 6. Write to Gold layer\n",
    "(\n",
    "    race_results_df.write.format(\"delta\")\n",
    "    .mode(\"overwrite\")\n",
    "    .option(\"overwriteSchema\", \"true\")\n",
    "    .saveAsTable(\"gold.race_results\")\n",
    ")\n",
    "\n",
    "# 7. Optimize table\n",
    "spark.sql(\"OPTIMIZE gold.race_results ZORDER BY (year, round)\")"
   ]
  }
 ],
 "metadata": {
  "application/vnd.databricks.v1+notebook": {
   "computePreferences": null,
   "dashboards": [],
   "environmentMetadata": {
    "base_environment": "",
    "environment_version": "3"
   },
   "inputWidgetPreferences": null,
   "language": "python",
   "notebookMetadata": {
    "pythonIndentUnit": 4
   },
   "notebookName": "01. Transform_Race_Results",
   "widgets": {}
  },
  "language_info": {
   "name": "python"
  }
 },
 "nbformat": 4,
 "nbformat_minor": 0
}
