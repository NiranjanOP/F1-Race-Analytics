{
 "cells": [
  {
   "cell_type": "markdown",
   "metadata": {
    "application/vnd.databricks.v1+cell": {
     "cellMetadata": {},
     "inputWidgets": {},
     "nuid": "2d47ae55-b74e-40af-a49b-578d4c1e7091",
     "showTitle": false,
     "tableResultSettingsMap": {},
     "title": ""
    }
   },
   "source": [
    "# Gold Layer – Race Events\n",
    "\n",
    "## Objective\n",
    "This notebook creates the `gold.race_events` table by combining race control messages, session info, and weather conditions.  \n",
    "It provides a timeline of race-critical events, flags, and conditions.\n",
    "\n",
    "## Steps\n",
    "1. Load Silver tables: `race_control_messages`, `session_info`, `weather_data`.  \n",
    "2. Normalize and align event timestamps.  \n",
    "3. Categorize events:\n",
    "   - Yellow/Red/Green/Blue flags  \n",
    "   - Virtual Safety Car (VSC)  \n",
    "   - Safety Car deployment  \n",
    "   - Other race messages  \n",
    "4. Enrich with session metadata (round, circuit, year).  \n",
    "5. Enrich with weather conditions at the time of events.  \n",
    "6. Write final dataset into Gold layer as `gold.race_events`.  \n",
    "7. Optimize table with ZORDER on `(session_key, Date)`.  \n"
   ]
  },
  {
   "cell_type": "code",
   "execution_count": 0,
   "metadata": {
    "application/vnd.databricks.v1+cell": {
     "cellMetadata": {},
     "inputWidgets": {},
     "nuid": "e8a2043f-da2f-4278-a352-69aba42866f4",
     "showTitle": false,
     "tableResultSettingsMap": {},
     "title": ""
    }
   },
   "outputs": [],
   "source": [
    "from pyspark.sql import functions as F\n",
    "from pyspark.sql.window import Window\n",
    "\n",
    "# 1. Load Silver tables\n",
    "race_msgs = spark.table(\"silver.race_control_messages\")\n",
    "session_info = spark.table(\"silver.session_info\")\n",
    "weather = spark.table(\"silver.weather_data\")\n",
    "\n",
    "# 2. Clean and normalize race control messages\n",
    "race_msgs = race_msgs.withColumnRenamed(\"Date\", \"event_time\")\n",
    "\n",
    "# Standardize flags and categories\n",
    "race_msgs = race_msgs.withColumn(\n",
    "    \"event_type\",\n",
    "    F.when(F.col(\"Flag\").rlike(\"YELLOW\"), \"Yellow Flag\")\n",
    "     .when(F.col(\"Flag\").rlike(\"RED\"), \"Red Flag\")\n",
    "     .when(F.col(\"Flag\").rlike(\"GREEN\"), \"Green Flag\")\n",
    "     .when(F.col(\"Flag\").rlike(\"BLUE\"), \"Blue Flag\")\n",
    "     .when(F.col(\"Message\").rlike(\"SAFETY CAR\"), \"Safety Car\")\n",
    "     .when(F.col(\"Message\").rlike(\"VIRTUAL SAFETY CAR\"), \"Virtual Safety Car\")\n",
    "     .otherwise(\"Other\")\n",
    ")\n",
    "\n",
    "# 3. Join with session info for context\n",
    "race_events = (\n",
    "    race_msgs\n",
    "    .join(session_info, on=\"session_key\", how=\"left\")\n",
    ")\n",
    "\n",
    "# 4. Approximate weather conditions at event time\n",
    "# Take average weather per session, as exact timestamp may not align\n",
    "weather_summary = (\n",
    "    weather.groupBy(\"session_key\")\n",
    "    .agg(\n",
    "        F.avg(\"TrackTemp\").alias(\"avg_track_temp\"),\n",
    "        F.avg(\"AirTemp\").alias(\"avg_air_temp\"),\n",
    "        F.avg(\"Humidity\").alias(\"avg_humidity\"),\n",
    "        F.avg(\"Rainfall\").alias(\"avg_rainfall\")\n",
    "    )\n",
    ")\n",
    "\n",
    "race_events = race_events.join(weather_summary, on=\"session_key\", how=\"left\")\n",
    "\n",
    "# 5. Final clean up\n",
    "race_events = race_events.select(\n",
    "    \"session_key\",\n",
    "    \"event_time\",\n",
    "    \"event_type\",\n",
    "    \"Message\",\n",
    "    \"Category\",\n",
    "    \"Scope\",\n",
    "    \"Status\",\n",
    "    \"Year\",\n",
    "    \"Round\",\n",
    "    \"Circuit\",\n",
    "    \"SessionName\",\n",
    "    \"EventName\",\n",
    "    \"avg_track_temp\",\n",
    "    \"avg_air_temp\",\n",
    "    \"avg_humidity\",\n",
    "    \"avg_rainfall\"\n",
    ").dropDuplicates()\n",
    "\n",
    "# 6. Write to Gold layer\n",
    "(\n",
    "    race_events.write.format(\"delta\")\n",
    "    .mode(\"overwrite\")\n",
    "    .option(\"overwriteSchema\", \"true\")\n",
    "    .saveAsTable(\"gold.race_events\")\n",
    ")\n",
    "\n",
    "# 7. Optimize\n",
    "spark.sql(\"OPTIMIZE gold.race_events ZORDER BY (session_key, event_time)\")\n"
   ]
  }
 ],
 "metadata": {
  "application/vnd.databricks.v1+notebook": {
   "computePreferences": null,
   "dashboards": [],
   "environmentMetadata": {
    "base_environment": "",
    "environment_version": "3"
   },
   "inputWidgetPreferences": null,
   "language": "python",
   "notebookMetadata": {
    "pythonIndentUnit": 4
   },
   "notebookName": "03. Transform_Race_Events",
   "widgets": {}
  },
  "language_info": {
   "name": "python"
  }
 },
 "nbformat": 4,
 "nbformat_minor": 0
}
