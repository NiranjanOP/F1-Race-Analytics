{
 "cells": [
  {
   "cell_type": "code",
   "execution_count": 0,
   "metadata": {
    "application/vnd.databricks.v1+cell": {
     "cellMetadata": {
      "byteLimit": 2048000,
      "rowLimit": 10000
     },
     "inputWidgets": {},
     "nuid": "6aae2f49-b306-4837-8da6-770b46b19122",
     "showTitle": false,
     "tableResultSettingsMap": {},
     "title": ""
    }
   },
   "outputs": [],
   "source": [
    "%pip install fastf1 matplotlib pandas"
   ]
  },
  {
   "cell_type": "code",
   "execution_count": 0,
   "metadata": {
    "application/vnd.databricks.v1+cell": {
     "cellMetadata": {
      "byteLimit": 2048000,
      "rowLimit": 10000
     },
     "inputWidgets": {},
     "nuid": "cf3b64c6-8ad0-4522-a25e-2e1d2c50bf00",
     "showTitle": false,
     "tableResultSettingsMap": {},
     "title": ""
    }
   },
   "outputs": [],
   "source": [
    "%restart_python"
   ]
  },
  {
   "cell_type": "code",
   "execution_count": 0,
   "metadata": {
    "application/vnd.databricks.v1+cell": {
     "cellMetadata": {
      "byteLimit": 2048000,
      "rowLimit": 10000
     },
     "inputWidgets": {},
     "nuid": "82f5ee9c-d911-4dd5-afd4-c3ce048fb9ab",
     "showTitle": false,
     "tableResultSettingsMap": {},
     "title": ""
    }
   },
   "outputs": [],
   "source": [
    "# Notebook: 04_ingest_results\n",
    "# Language: Python\n",
    "# Markdown: small description\n",
    "# MAGIC %md\n",
    "# MAGIC # Ingest F1 Session Results into Bronze Layer\n",
    "# MAGIC This notebook extracts session results (drivers, teams, finishing positions, points, etc.) and stores in bronze layer.\n",
    "\n",
    "import fastf1, pandas as pd\n",
    "from pyspark.sql import SparkSession\n",
    "\n",
    "spark = SparkSession.builder.getOrCreate()\n",
    "\n",
    "CACHE_PATH = \"/Workspace/Users/niranjan.482000@gmail.com/F1-Race-Analytics/cache\"\n",
    "try:\n",
    "    fastf1.Cache.enable_cache(CACHE_PATH)\n",
    "except Exception as e:\n",
    "    print(\"Cache enable warning:\", e)\n",
    "\n",
    "# Example session\n",
    "year = 2023\n",
    "gp = \"Bahrain\"\n",
    "sess_type = \"R\"\n",
    "\n",
    "session = fastf1.get_session(year, gp, sess_type)\n",
    "session.load()\n",
    "\n",
    "# extract results\n",
    "try:\n",
    "    results = session.results.copy()  # Pandas DataFrame\n",
    "except Exception as e:\n",
    "    print(\"Results extraction failed:\", e)\n",
    "    results = pd.DataFrame()  # fallback empty\n",
    "\n",
    "if not results.empty:\n",
    "    results['event_name'] = session.event.EventName if hasattr(session.event, \"EventName\") else gp\n",
    "    results['year'] = year\n",
    "    results['round'] = getattr(session.event, \"RoundNumber\", None)\n",
    "    results['session_name'] = session.name\n",
    "    results['session_key'] = f\"{results['event_name'].iloc[0]}_{session.name}_{pd.to_datetime(session.date).strftime('%Y%m%d')}\"\n",
    "\n",
    "    # create Spark DataFrame\n",
    "    sdf = spark.createDataFrame(results.astype(str))  # convert all to string to avoid schema issues\n",
    "    sdf.write.format(\"delta\").mode(\"append\").saveAsTable(\"f1_catalog.bronze.session_results\")\n",
    "\n",
    "    print(f\"✅ Wrote {len(results)} rows for {results['session_key'].iloc[0]}\")\n",
    "    display(spark.table(\"f1_catalog.bronze.session_results\").where(f\"session_key = '{results['session_key'].iloc[0]}'\").limit(20))\n",
    "else:\n",
    "    print(\"⚠️ No results available for this session\")\n"
   ]
  }
 ],
 "metadata": {
  "application/vnd.databricks.v1+notebook": {
   "computePreferences": null,
   "dashboards": [],
   "environmentMetadata": {
    "base_environment": "",
    "environment_version": "3"
   },
   "inputWidgetPreferences": null,
   "language": "python",
   "notebookMetadata": {
    "pythonIndentUnit": 4
   },
   "notebookName": "09. Ingest_Results_to_Bronze",
   "widgets": {}
  },
  "language_info": {
   "name": "python"
  }
 },
 "nbformat": 4,
 "nbformat_minor": 0
}
