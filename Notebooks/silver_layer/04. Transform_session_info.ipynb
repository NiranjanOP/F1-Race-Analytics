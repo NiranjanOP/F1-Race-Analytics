{
 "cells": [
  {
   "cell_type": "markdown",
   "metadata": {
    "application/vnd.databricks.v1+cell": {
     "cellMetadata": {},
     "inputWidgets": {},
     "nuid": "dfc2c883-3a3b-48f3-bfe3-a1e3ce53f474",
     "showTitle": false,
     "tableResultSettingsMap": {},
     "title": ""
    }
   },
   "source": [
    "# Silver Layer Transformation - Session Info\n",
    "\n",
    "## Objective\n",
    "Transform the `bronze.session_info` table into a clean Silver table with standardized column formats.\n",
    "\n",
    "## Steps\n",
    "1. **Read** data from Bronze table `bronze.session_info`.\n",
    "2. **Select & Rename** columns:\n",
    "   - `Round`, `Year`, `Circuit`, `SessionName`, `EventName`\n",
    "   - `StartDate`, `EndDate` (cast to `timestamp`)\n",
    "3. **Data Cleaning**\n",
    "   - Standardize string columns (trim text).\n",
    "   - Cast numeric fields (`Round`, `Year`) to integers.\n",
    "   - Ensure consistent datetime format for start and end.\n",
    "   - Drop duplicates.\n",
    "4. **Write** results into Silver schema as `silver.session_info`.\n",
    "\n",
    "## Output\n",
    "- Clean and structured Silver table:\n",
    "  `silver.session_info`\n"
   ]
  },
  {
   "cell_type": "code",
   "execution_count": 0,
   "metadata": {
    "application/vnd.databricks.v1+cell": {
     "cellMetadata": {},
     "inputWidgets": {},
     "nuid": "f6360015-998e-445e-bf7b-f0e9782d22cb",
     "showTitle": false,
     "tableResultSettingsMap": {},
     "title": ""
    }
   },
   "outputs": [],
   "source": [
    "from pyspark.sql import functions as F\n",
    "\n",
    "# Read from Bronze\n",
    "session_info_bronze = spark.table(\"bronze.session_info\")\n",
    "\n",
    "# Transformations\n",
    "session_info_silver = (\n",
    "    session_info_bronze\n",
    "    .select(\n",
    "        F.col(\"Round\").cast(\"int\").alias(\"round\"),\n",
    "        F.col(\"Year\").cast(\"int\").alias(\"year\"),\n",
    "        F.trim(F.col(\"Circuit\")).alias(\"circuit\"),\n",
    "        F.trim(F.col(\"SessionName\")).alias(\"session_name\"),\n",
    "        F.trim(F.col(\"EventName\")).alias(\"event_name\"),\n",
    "        F.to_timestamp(\"StartDate\").alias(\"start_timestamp\"),\n",
    "        F.to_timestamp(\"EndDate\").alias(\"end_timestamp\")\n",
    "    )\n",
    "    .dropDuplicates()\n",
    ")\n",
    "\n",
    "# Write to Silver\n",
    "(\n",
    "    session_info_silver\n",
    "    .write\n",
    "    .format(\"delta\")\n",
    "    .mode(\"overwrite\")\n",
    "    .option(\"overwriteSchema\", \"true\")\n",
    "    .saveAsTable(\"silver.session_info\")\n",
    ")\n"
   ]
  }
 ],
 "metadata": {
  "application/vnd.databricks.v1+notebook": {
   "computePreferences": null,
   "dashboards": [],
   "environmentMetadata": {
    "base_environment": "",
    "environment_version": "3"
   },
   "inputWidgetPreferences": null,
   "language": "python",
   "notebookMetadata": {
    "pythonIndentUnit": 4
   },
   "notebookName": "04. Transform_session_info",
   "widgets": {}
  },
  "language_info": {
   "name": "python"
  }
 },
 "nbformat": 4,
 "nbformat_minor": 0
}
