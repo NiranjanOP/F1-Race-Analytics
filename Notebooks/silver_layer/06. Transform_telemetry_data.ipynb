{
 "cells": [
  {
   "cell_type": "markdown",
   "metadata": {
    "application/vnd.databricks.v1+cell": {
     "cellMetadata": {},
     "inputWidgets": {},
     "nuid": "c65999e0-d0f2-4353-9ad2-4f78d321ab50",
     "showTitle": false,
     "tableResultSettingsMap": {},
     "title": ""
    }
   },
   "source": [
    "# Silver Layer Transformation - Telemetry Data\n",
    "\n",
    "## Objective\n",
    "Transform the `bronze.telemetry_data` table into a clean Silver table for detailed car performance analysis.\n",
    "\n",
    "## Steps\n",
    "1. **Read** data from Bronze table `bronze.telemetry_data`.\n",
    "2. **Select & Rename** important columns:\n",
    "   - Driver info: `Driver`\n",
    "   - Car telemetry: `nGear`, `Throttle`, `Brake`, `DRS`, `RPM`, `Speed`, `Distance`\n",
    "   - Time-related: `Time`, `SessionTime`, `LapNumber`, `Date`\n",
    "   - Metadata: `Source`\n",
    "3. **Data Cleaning**\n",
    "   - Cast numeric fields (`nGear`, `Throttle`, `Brake`, `DRS`, `RPM`, `Speed`, `Distance`, `LapNumber`) into proper numeric types.\n",
    "   - Convert `Date` to `timestamp`.\n",
    "   - Trim text fields (`Driver`, `Source`).\n",
    "   - Drop duplicates and null-heavy rows.\n",
    "4. **Write** results into Silver schema as `silver.telemetry_data`.\n",
    "\n",
    "## Output\n",
    "- Clean Silver table:\n",
    "  `silver.telemetry_data`\n"
   ]
  },
  {
   "cell_type": "code",
   "execution_count": 0,
   "metadata": {
    "application/vnd.databricks.v1+cell": {
     "cellMetadata": {},
     "inputWidgets": {},
     "nuid": "cb5f8843-30d5-4812-bf2f-5b95e6d8b5e6",
     "showTitle": false,
     "tableResultSettingsMap": {},
     "title": ""
    }
   },
   "outputs": [],
   "source": [
    "from pyspark.sql import functions as F\n",
    "\n",
    "# Read from Bronze\n",
    "telemetry_bronze = spark.table(\"bronze.telemetry_data\")\n",
    "\n",
    "# Transformations\n",
    "telemetry_silver = (\n",
    "    telemetry_bronze\n",
    "    .select(\n",
    "        F.trim(F.col(\"Driver\")).alias(\"driver\"),\n",
    "        F.col(\"LapNumber\").cast(\"int\").alias(\"lap_number\"),\n",
    "        F.col(\"nGear\").cast(\"int\").alias(\"gear\"),\n",
    "        F.col(\"Throttle\").cast(\"float\").alias(\"throttle\"),\n",
    "        F.col(\"Brake\").cast(\"float\").alias(\"brake\"),\n",
    "        F.col(\"DRS\").cast(\"int\").alias(\"drs\"),\n",
    "        F.col(\"RPM\").cast(\"int\").alias(\"rpm\"),\n",
    "        F.col(\"Speed\").cast(\"float\").alias(\"speed\"),\n",
    "        F.col(\"Distance\").cast(\"float\").alias(\"distance\"),\n",
    "        F.col(\"SessionTime\").cast(\"double\").alias(\"session_time_sec\"),\n",
    "        F.col(\"Time\").cast(\"double\").alias(\"relative_time_sec\"),\n",
    "        F.to_timestamp(\"Date\").alias(\"event_timestamp\"),\n",
    "        F.trim(F.col(\"Source\")).alias(\"source\")\n",
    "    )\n",
    "    .dropDuplicates()\n",
    ")\n",
    "\n",
    "# Write to Silver\n",
    "(\n",
    "    telemetry_silver\n",
    "    .write\n",
    "    .format(\"delta\")\n",
    "    .mode(\"overwrite\")\n",
    "    .option(\"overwriteSchema\", \"true\")\n",
    "    .saveAsTable(\"silver.telemetry_data\")\n",
    ")"
   ]
  }
 ],
 "metadata": {
  "application/vnd.databricks.v1+notebook": {
   "computePreferences": null,
   "dashboards": [],
   "environmentMetadata": {
    "base_environment": "",
    "environment_version": "3"
   },
   "inputWidgetPreferences": null,
   "language": "python",
   "notebookMetadata": {
    "pythonIndentUnit": 4
   },
   "notebookName": "06. Transform_telemetry_data",
   "widgets": {}
  },
  "language_info": {
   "name": "python"
  }
 },
 "nbformat": 4,
 "nbformat_minor": 0
}
