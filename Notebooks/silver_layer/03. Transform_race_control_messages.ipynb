{
 "cells": [
  {
   "cell_type": "markdown",
   "metadata": {
    "application/vnd.databricks.v1+cell": {
     "cellMetadata": {},
     "inputWidgets": {},
     "nuid": "1195f3f9-5db7-4582-aee9-b4a06b54e0a5",
     "showTitle": false,
     "tableResultSettingsMap": {},
     "title": ""
    }
   },
   "source": [
    "# Silver Layer Transformation - Race Control Messages\n",
    "\n",
    "## Objective\n",
    "Transform the `bronze.race_control_messages` table into a clean and structured Silver table.\n",
    "\n",
    "## Steps\n",
    "1. **Read** data from Bronze table `bronze.race_control_messages`.\n",
    "2. **Select & Rename** important columns:\n",
    "   - `Scope`, `Category`, `Flag`, `Message`, `Status`\n",
    "   - `Date` (cast to `timestamp`)\n",
    "   - `session_key`\n",
    "3. **Data Cleaning**\n",
    "   - Standardize string columns (trim spaces, uppercase flags).\n",
    "   - Cast `Date` into a proper timestamp.\n",
    "   - Drop duplicates.\n",
    "4. **Write** results into Silver schema as `silver.race_control_messages`.\n",
    "\n",
    "## Output\n",
    "- Clean and structured Silver table:\n",
    "  `silver.race_control_messages`\n"
   ]
  },
  {
   "cell_type": "code",
   "execution_count": 0,
   "metadata": {
    "application/vnd.databricks.v1+cell": {
     "cellMetadata": {},
     "inputWidgets": {},
     "nuid": "59628d12-4621-4ce2-a845-8ce0fd3b8a8b",
     "showTitle": false,
     "tableResultSettingsMap": {},
     "title": ""
    }
   },
   "outputs": [],
   "source": [
    "from pyspark.sql import functions as F\n",
    "\n",
    "# Read from Bronze\n",
    "rcm_bronze = spark.table(\"bronze.race_control_messages\")\n",
    "\n",
    "# Transformations\n",
    "rcm_silver = (\n",
    "    rcm_bronze\n",
    "    .select(\n",
    "        F.col(\"Scope\").alias(\"scope\"),\n",
    "        F.col(\"Category\").alias(\"category\"),\n",
    "        F.upper(F.col(\"Flag\")).alias(\"flag\"),\n",
    "        F.col(\"Message\").alias(\"message\"),\n",
    "        F.col(\"Status\").alias(\"status\"),\n",
    "        F.col(\"session_key\").cast(\"string\").alias(\"session_key\"),\n",
    "        F.to_timestamp(\"Date\").alias(\"message_timestamp\")\n",
    "    )\n",
    "    .dropDuplicates()\n",
    ")\n",
    "\n",
    "# Write to Silver\n",
    "(\n",
    "    rcm_silver\n",
    "    .write\n",
    "    .format(\"delta\")\n",
    "    .mode(\"overwrite\")\n",
    "    .option(\"overwriteSchema\", \"true\")\n",
    "    .saveAsTable(\"silver.race_control_messages\")\n",
    ")"
   ]
  }
 ],
 "metadata": {
  "application/vnd.databricks.v1+notebook": {
   "computePreferences": null,
   "dashboards": [],
   "environmentMetadata": {
    "base_environment": "",
    "environment_version": "3"
   },
   "inputWidgetPreferences": null,
   "language": "python",
   "notebookMetadata": {
    "pythonIndentUnit": 4
   },
   "notebookName": "03. Transform_race_control_messages",
   "widgets": {}
  },
  "language_info": {
   "name": "python"
  }
 },
 "nbformat": 4,
 "nbformat_minor": 0
}
