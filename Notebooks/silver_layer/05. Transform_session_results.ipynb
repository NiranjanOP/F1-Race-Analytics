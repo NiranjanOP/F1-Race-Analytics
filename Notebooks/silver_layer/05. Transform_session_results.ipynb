{
 "cells": [
  {
   "cell_type": "markdown",
   "metadata": {
    "application/vnd.databricks.v1+cell": {
     "cellMetadata": {},
     "inputWidgets": {},
     "nuid": "bcd937fd-20a7-4da6-a605-dd2be31ef7f5",
     "showTitle": false,
     "tableResultSettingsMap": {},
     "title": ""
    }
   },
   "source": [
    "# Silver Layer Transformation - Session Results\n",
    "\n",
    "## Objective\n",
    "Transform the `bronze.session_results` table into a clean Silver table with correct data types and standardized columns.\n",
    "\n",
    "## Steps\n",
    "1. **Read** data from Bronze table `bronze.session_results`.\n",
    "2. **Select & Rename** key columns:\n",
    "   - Driver info: `DriverId`, `DriverNumber`, `FirstName`, `LastName`, `FullName`, `Abbreviation`, `BroadcastName`, `CountryCode`\n",
    "   - Team info: `TeamId`, `TeamName`, `TeamColor`\n",
    "   - Session info: `session_key`, `session_name`, `event_name`, `year`, `round`\n",
    "   - Performance: `GridPosition`, `Position`, `ClassifiedPosition`, `Points`, `Laps`, `Time`, `Status`\n",
    "   - Qualifying: `Q1`, `Q2`, `Q3`\n",
    "3. **Data Cleaning**\n",
    "   - Cast numeric fields (`year`, `round`, `DriverNumber`, `GridPosition`, `Position`, `ClassifiedPosition`, `Points`, `Laps`) to integers or floats as needed.\n",
    "   - Convert time fields (`Time`, `Q1`, `Q2`, `Q3`) into string or numeric durations.\n",
    "   - Standardize text columns by trimming spaces.\n",
    "   - Drop duplicates.\n",
    "4. **Write** results into Silver schema as `silver.session_results`.\n",
    "\n",
    "## Output\n",
    "- Clean Silver table:\n",
    "  `silver.session_results`\n"
   ]
  },
  {
   "cell_type": "code",
   "execution_count": 0,
   "metadata": {
    "application/vnd.databricks.v1+cell": {
     "cellMetadata": {},
     "inputWidgets": {},
     "nuid": "c25a0e74-3688-4d02-b274-10966a42e990",
     "showTitle": false,
     "tableResultSettingsMap": {},
     "title": ""
    }
   },
   "outputs": [],
   "source": [
    "from pyspark.sql import functions as F\n",
    "\n",
    "# Read from Bronze\n",
    "session_results_bronze = spark.table(\"bronze.session_results\")\n",
    "\n",
    "# Transformations\n",
    "session_results_silver = (\n",
    "    session_results_bronze\n",
    "    .select(\n",
    "        F.col(\"DriverId\").alias(\"driver_id\"),\n",
    "        F.col(\"DriverNumber\").cast(\"int\").alias(\"driver_number\"),\n",
    "        F.trim(F.col(\"FirstName\")).alias(\"first_name\"),\n",
    "        F.trim(F.col(\"LastName\")).alias(\"last_name\"),\n",
    "        F.trim(F.col(\"FullName\")).alias(\"full_name\"),\n",
    "        F.trim(F.col(\"BroadcastName\")).alias(\"broadcast_name\"),\n",
    "        F.trim(F.col(\"Abbreviation\")).alias(\"abbreviation\"),\n",
    "        F.trim(F.col(\"CountryCode\")).alias(\"country_code\"),\n",
    "\n",
    "        F.col(\"TeamId\").alias(\"team_id\"),\n",
    "        F.trim(F.col(\"TeamName\")).alias(\"team_name\"),\n",
    "        F.trim(F.col(\"TeamColor\")).alias(\"team_color\"),\n",
    "\n",
    "        F.col(\"session_key\").cast(\"int\"),\n",
    "        F.trim(F.col(\"session_name\")).alias(\"session_name\"),\n",
    "        F.trim(F.col(\"event_name\")).alias(\"event_name\"),\n",
    "        F.col(\"year\").cast(\"int\").alias(\"year\"),\n",
    "        F.col(\"round\").cast(\"int\").alias(\"round\"),\n",
    "\n",
    "        F.col(\"GridPosition\").cast(\"int\").alias(\"grid_position\"),\n",
    "        F.col(\"Position\").cast(\"int\").alias(\"position\"),\n",
    "        F.col(\"ClassifiedPosition\").cast(\"int\").alias(\"classified_position\"),\n",
    "        F.col(\"Points\").cast(\"float\").alias(\"points\"),\n",
    "        F.col(\"Laps\").cast(\"int\").alias(\"laps\"),\n",
    "        F.trim(F.col(\"Time\")).alias(\"race_time\"),\n",
    "        F.trim(F.col(\"Status\")).alias(\"status\"),\n",
    "\n",
    "        F.trim(F.col(\"Q1\")).alias(\"q1_time\"),\n",
    "        F.trim(F.col(\"Q2\")).alias(\"q2_time\"),\n",
    "        F.trim(F.col(\"Q3\")).alias(\"q3_time\"),\n",
    "\n",
    "        F.trim(F.col(\"HeadshotUrl\")).alias(\"headshot_url\")\n",
    "    )\n",
    "    .dropDuplicates()\n",
    ")\n",
    "\n",
    "# Write to Silver\n",
    "(\n",
    "    session_results_silver\n",
    "    .write\n",
    "    .format(\"delta\")\n",
    "    .mode(\"overwrite\")\n",
    "    .option(\"overwriteSchema\", \"true\")\n",
    "    .saveAsTable(\"silver.session_results\")\n",
    ")"
   ]
  }
 ],
 "metadata": {
  "application/vnd.databricks.v1+notebook": {
   "computePreferences": null,
   "dashboards": [],
   "environmentMetadata": {
    "base_environment": "",
    "environment_version": "3"
   },
   "inputWidgetPreferences": null,
   "language": "python",
   "notebookMetadata": {
    "pythonIndentUnit": 4
   },
   "notebookName": "05. Transform_session_results",
   "widgets": {}
  },
  "language_info": {
   "name": "python"
  }
 },
 "nbformat": 4,
 "nbformat_minor": 0
}
