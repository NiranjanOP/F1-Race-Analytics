{
 "cells": [
  {
   "cell_type": "markdown",
   "metadata": {
    "application/vnd.databricks.v1+cell": {
     "cellMetadata": {},
     "inputWidgets": {},
     "nuid": "5250f610-6315-455e-91fc-4c958004f793",
     "showTitle": false,
     "tableResultSettingsMap": {},
     "title": ""
    }
   },
   "source": [
    "# Silver Layer Transformation - Circuit Info\n",
    "\n",
    "## Objective\n",
    "Transform the `bronze.circuit_info` table into a clean and standardized Silver table.\n",
    "\n",
    "## Steps\n",
    "1. **Read** data from the Bronze table `bronze.circuit_info`.\n",
    "2. **Select & Rename** relevant columns:\n",
    "   - Keep: `circuit_name`, `circuit_location`, `circuit_country`, `distance`, `angle`\n",
    "   - Standardize: `year`, `round`, `session_key`\n",
    "   - Drop: `raw`, `idx`, `record_type`, `number`, `name` (redundant/unnecessary)\n",
    "3. **Data Cleaning**\n",
    "   - Cast numeric fields (`year`, `round`, `distance`, `angle`) to correct types.\n",
    "   - Trim strings to remove extra spaces.\n",
    "4. **Write** the cleaned data into the Silver schema as `silver.circuit_info`.\n",
    "\n",
    "## Output\n",
    "- A clean, deduplicated, and standardized Silver table:  \n",
    "  `silver.circuit_info`\n"
   ]
  },
  {
   "cell_type": "code",
   "execution_count": 0,
   "metadata": {
    "application/vnd.databricks.v1+cell": {
     "cellMetadata": {},
     "inputWidgets": {},
     "nuid": "4675d636-d13c-4b28-a9bd-e43404e9e868",
     "showTitle": false,
     "tableResultSettingsMap": {},
     "title": ""
    }
   },
   "outputs": [],
   "source": [
    "from pyspark.sql import functions as F\n",
    "\n",
    "# Read from Bronze\n",
    "circuit_info_bronze = spark.table(\"bronze.circuit_info\")\n",
    "\n",
    "# Transformations\n",
    "circuit_info_silver = (\n",
    "    circuit_info_bronze\n",
    "    .select(\n",
    "        F.col(\"circuit_name\").alias(\"circuit_name\"),\n",
    "        F.col(\"circuit_location\").alias(\"circuit_location\"),\n",
    "        F.col(\"circuit_country\").alias(\"circuit_country\"),\n",
    "        F.col(\"distance\").cast(\"double\").alias(\"distance\"),\n",
    "        F.col(\"angle\").cast(\"double\").alias(\"angle\"),\n",
    "        F.col(\"year\").cast(\"int\").alias(\"year\"),\n",
    "        F.col(\"round\").cast(\"int\").alias(\"round\"),\n",
    "        F.col(\"session_key\").cast(\"string\").alias(\"session_key\")\n",
    "    )\n",
    "    .withColumn(\"circuit_name\", F.trim(F.col(\"circuit_name\")))\n",
    "    .withColumn(\"circuit_location\", F.trim(F.col(\"circuit_location\")))\n",
    "    .withColumn(\"circuit_country\", F.trim(F.col(\"circuit_country\")))\n",
    "    .dropDuplicates()\n",
    ")\n",
    "\n",
    "# Write to Silver\n",
    "(\n",
    "    circuit_info_silver\n",
    "    .write\n",
    "    .format(\"delta\")\n",
    "    .mode(\"overwrite\")\n",
    "    .option(\"overwriteSchema\", \"true\")\n",
    "    .saveAsTable(\"silver.circuit_info\")\n",
    ")"
   ]
  }
 ],
 "metadata": {
  "application/vnd.databricks.v1+notebook": {
   "computePreferences": null,
   "dashboards": [],
   "environmentMetadata": {
    "base_environment": "",
    "environment_version": "3"
   },
   "inputWidgetPreferences": null,
   "language": "python",
   "notebookMetadata": {
    "pythonIndentUnit": 4
   },
   "notebookName": "01. Transform_circuit_info",
   "widgets": {}
  },
  "language_info": {
   "name": "python"
  }
 },
 "nbformat": 4,
 "nbformat_minor": 0
}
