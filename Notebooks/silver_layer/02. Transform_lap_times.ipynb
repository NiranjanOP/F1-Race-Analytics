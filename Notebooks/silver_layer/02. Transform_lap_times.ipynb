{
 "cells": [
  {
   "cell_type": "markdown",
   "metadata": {
    "application/vnd.databricks.v1+cell": {
     "cellMetadata": {},
     "inputWidgets": {},
     "nuid": "30d7c609-a6ad-4d7a-afc9-7b02dcfc8a5b",
     "showTitle": false,
     "tableResultSettingsMap": {},
     "title": ""
    }
   },
   "source": [
    "# Silver Layer Transformation - Lap Times\n",
    "\n",
    "## Objective\n",
    "Transform the `bronze.lap_times` table into a clean and structured Silver table.\n",
    "\n",
    "## Steps\n",
    "1. **Read** data from Bronze table `bronze.lap_times`.\n",
    "2. **Select & Rename** key columns:\n",
    "   - Driver info: `driver`, `driver_number`\n",
    "   - Lap details: `lap_number`, `lap_time`, `position`, `track_status`\n",
    "   - Sector times: `sector1_time`, `sector2_time`, `sector3_time`\n",
    "   - Tyre & stint: `compound`, `stint`, `tyre_life`, `fresh_tyre`\n",
    "   - Timing: `time`, `lap_start_time`, `lap_start_date`\n",
    "   - Flags: `is_accurate`, `is_personal_best`, `deleted`, `deleted_reason`\n",
    "3. **Data Cleaning**\n",
    "   - Convert lap/sector times into milliseconds (`double` → `long`).\n",
    "   - Standardize boolean flags (`is_accurate`, `is_personal_best`, `deleted`).\n",
    "   - Cast numeric fields (`driver_number`, `lap_number`, `position`, `stint`, `tyre_life`).\n",
    "4. **Write** results into the Silver schema as `silver.lap_times`.\n",
    "\n",
    "## Output\n",
    "- Clean and structured Silver table:\n",
    "  `silver.lap_times`\n"
   ]
  },
  {
   "cell_type": "code",
   "execution_count": 0,
   "metadata": {
    "application/vnd.databricks.v1+cell": {
     "cellMetadata": {},
     "inputWidgets": {},
     "nuid": "a91d0b61-d32f-49bd-95d4-6fcc014be880",
     "showTitle": false,
     "tableResultSettingsMap": {},
     "title": ""
    }
   },
   "outputs": [],
   "source": [
    "from pyspark.sql import functions as F\n",
    "\n",
    "# Read from Bronze\n",
    "lap_times_bronze = spark.table(\"bronze.lap_times\")\n",
    "\n",
    "# Transformations\n",
    "lap_times_silver = (\n",
    "    lap_times_bronze\n",
    "    .select(\n",
    "        F.col(\"driver\").alias(\"driver\"),\n",
    "        F.col(\"driver_number\").cast(\"int\").alias(\"driver_number\"),\n",
    "        F.col(\"lap_number\").cast(\"int\").alias(\"lap_number\"),\n",
    "        F.col(\"lap_time\").cast(\"double\").alias(\"lap_time_ms\"),  # already in ms\n",
    "        F.col(\"position\").cast(\"int\").alias(\"position\"),\n",
    "        F.col(\"track_status\").alias(\"track_status\"),\n",
    "\n",
    "        # Sector times\n",
    "        F.col(\"sector1_time\").cast(\"double\").alias(\"sector1_time_ms\"),\n",
    "        F.col(\"sector2_time\").cast(\"double\").alias(\"sector2_time_ms\"),\n",
    "        F.col(\"sector3_time\").cast(\"double\").alias(\"sector3_time_ms\"),\n",
    "\n",
    "        # Tyre & stint info\n",
    "        F.col(\"compound\").alias(\"compound\"),\n",
    "        F.col(\"stint\").cast(\"int\").alias(\"stint\"),\n",
    "        F.col(\"tyre_life\").cast(\"int\").alias(\"tyre_life\"),\n",
    "        F.col(\"fresh_tyre\").cast(\"boolean\").alias(\"fresh_tyre\"),\n",
    "\n",
    "        # Timing\n",
    "        F.col(\"time\").alias(\"lap_time_str\"),\n",
    "        F.col(\"lap_start_time\").alias(\"lap_start_time\"),\n",
    "        F.col(\"lap_start_date\").alias(\"lap_start_date\"),\n",
    "\n",
    "        # Flags\n",
    "        F.col(\"is_accurate\").cast(\"boolean\").alias(\"is_accurate\"),\n",
    "        F.col(\"is_personal_best\").cast(\"boolean\").alias(\"is_personal_best\"),\n",
    "        F.col(\"deleted\").cast(\"boolean\").alias(\"deleted\"),\n",
    "        F.col(\"deleted_reason\").alias(\"deleted_reason\")\n",
    "    )\n",
    "    .dropDuplicates()\n",
    ")\n",
    "\n",
    "# Write to Silver\n",
    "(\n",
    "    lap_times_silver\n",
    "    .write\n",
    "    .format(\"delta\")\n",
    "    .mode(\"overwrite\")\n",
    "    .option(\"overwriteSchema\", \"true\")\n",
    "    .saveAsTable(\"silver.lap_times\")\n",
    ")\n"
   ]
  }
 ],
 "metadata": {
  "application/vnd.databricks.v1+notebook": {
   "computePreferences": null,
   "dashboards": [],
   "environmentMetadata": {
    "base_environment": "",
    "environment_version": "3"
   },
   "inputWidgetPreferences": null,
   "language": "python",
   "notebookMetadata": {
    "pythonIndentUnit": 4
   },
   "notebookName": "02. Transform_lap_times",
   "widgets": {}
  },
  "language_info": {
   "name": "python"
  }
 },
 "nbformat": 4,
 "nbformat_minor": 0
}
